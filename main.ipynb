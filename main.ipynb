{
 "cells": [
  {
   "cell_type": "code",
   "execution_count": null,
   "metadata": {},
   "outputs": [],
   "source": [
    "# Import Packages\n",
    "\n",
    "import pandas as pd\n",
    "import numpy as np\n",
    "import seaborn as sns\n",
    "import matplotlib.pyplot as plt"
   ]
  },
  {
   "cell_type": "code",
   "execution_count": null,
   "metadata": {},
   "outputs": [],
   "source": [
    "# 2013-2014 data\n",
    "\n",
    "Hepatitis1 = pd.read_sas(\"2013-2014 data\\HEQ_H.XPT\")\n",
    "AlcoholUse1 = pd.read_sas(\"2013-2014 data\\ALQ_H.XPT\")\n",
    "CurrentHealthStatus1 = pd.read_sas(\"2013-2014 data\\HSQ_H.XPT\")\n",
    "Immunization1 = pd.read_sas(\"2013-2014 data\\IMQ_H.XPT\")\n",
    "MedicalConditions1 = pd.read_sas(\"2013-2014 data\\MCQ_H.XPT\")\n",
    "SmokingCigaretteUse1 = pd.read_sas(\"2013-2014 data\\SMQ_H.XPT\")\n",
    "BloodPressure1 = pd.read_sas(\"2013-2014 data\\BPX_H.XPT\")\n",
    "BodyMeasures1 = pd.read_sas(\"2013-2014 data\\BMX_H.XPT\")\n",
    "HepatitisBcore1 = pd.read_sas(\"2013-2014 data\\HEPBD_H.XPT\")\n",
    "HepatitisBsurface1 = pd.read_sas(\"2013-2014 data\\HEPB_S_H.XPT\")\n",
    "HepatitisC1 = pd.read_sas(\"2013-2014 data\\HEPC_H.XPT\")"
   ]
  },
  {
   "cell_type": "code",
   "execution_count": null,
   "metadata": {},
   "outputs": [],
   "source": [
    "from functools import reduce\n",
    "data_merge1 = reduce(lambda left, right:     # Merge three pandas DataFrames\n",
    "                     pd.merge(left , right,\n",
    "                              on = [\"SEQN\"]),\n",
    "                     [AlcoholUse1, CurrentHealthStatus1,  Hepatitis1,Immunization1,MedicalConditions1,SmokingCigaretteUse1,\n",
    "                     BloodPressure1, BodyMeasures1, HepatitisBcore1, HepatitisBsurface1, HepatitisC1])\n",
    "data_merge1"
   ]
  },
  {
   "cell_type": "code",
   "execution_count": null,
   "metadata": {},
   "outputs": [],
   "source": [
    "# 2015-2016 data\n",
    "\n",
    "Hepatitis2 = pd.read_sas(\"2015-2016 data\\HEQ_I.XPT\")\n",
    "AlcoholUse2 = pd.read_sas(\"2015-2016 data\\ALQ_I.XPT\")\n",
    "CurrentHealthStatus2 = pd.read_sas(\"2015-2016 data\\HSQ_I.XPT\")\n",
    "Immunization2 = pd.read_sas(\"2015-2016 data\\IMQ_I.XPT\")\n",
    "MedicalConditions2 = pd.read_sas(\"2015-2016 data\\MCQ_I.XPT\")\n",
    "SmokingCigaretteUse2 = pd.read_sas(\"2015-2016 data\\SMQ_I.XPT\")\n",
    "BloodPressure2 = pd.read_sas(\"2015-2016 data\\BPX_I.XPT\")\n",
    "BodyMeasures2 = pd.read_sas(\"2015-2016 data\\BMX_I.XPT\")\n",
    "HepatitisBcore2 = pd.read_sas(\"2015-2016 data\\HEPBD_I.XPT\")\n",
    "HepatitisBsurface2 = pd.read_sas(\"2015-2016 data\\HEPB_S_I.XPT\")\n",
    "HepatitisC2 = pd.read_sas(\"2015-2016 data\\HEPC_I.XPT\")"
   ]
  },
  {
   "cell_type": "code",
   "execution_count": null,
   "metadata": {},
   "outputs": [],
   "source": [
    "from functools import reduce\n",
    "data_merge2 = reduce(lambda left, right:     # Merge three pandas DataFrames\n",
    "                     pd.merge(left , right,\n",
    "                              on = [\"SEQN\"]),\n",
    "                     [AlcoholUse2, CurrentHealthStatus2,  Hepatitis2,Immunization2,MedicalConditions2,SmokingCigaretteUse2,\n",
    "                     BloodPressure2, BodyMeasures2, HepatitisBcore2, HepatitisBsurface2, HepatitisC2])\n",
    "data_merge2"
   ]
  },
  {
   "cell_type": "code",
   "execution_count": null,
   "metadata": {},
   "outputs": [],
   "source": [
    "# Find columns that are similar across all year periods\n",
    "\n",
    "similar_columns = sorted(list(set(data_merge1.columns).intersection(set(data_merge2.columns))))"
   ]
  },
  {
   "cell_type": "code",
   "execution_count": null,
   "metadata": {},
   "outputs": [],
   "source": [
    "# Use columns similar across all year periods\n",
    "\n",
    "data_20132014 = data_merge1[similar_columns]\n",
    "data_20132014.insert(0, 'SEQN', data_20132014.pop('SEQN'))\n",
    "\n",
    "data_20152016 = data_merge2[similar_columns]\n",
    "data_20152016.insert(0, 'SEQN', data_20152016.pop('SEQN'))"
   ]
  },
  {
   "cell_type": "code",
   "execution_count": null,
   "metadata": {},
   "outputs": [],
   "source": [
    "# Concatenate the datasets\n",
    "\n",
    "data_total = pd.concat([data_20132014, data_20152016])\n",
    "\n",
    "data_total"
   ]
  },
  {
   "cell_type": "code",
   "execution_count": null,
   "metadata": {},
   "outputs": [],
   "source": [
    "# HEQ010 1.0 or HEQ030 1.0 (has hepatitis) new column\n",
    "\n",
    "data_total['HEQ'] = np.where(((data_total.HEQ010 == 1.0) | ((data_total.HEQ030 == 1.0))), 1.0, 2.0)\n",
    "\n",
    "data_total['HEQ'].value_counts()"
   ]
  },
  {
   "cell_type": "code",
   "execution_count": null,
   "metadata": {},
   "outputs": [],
   "source": [
    "# HEQ020 1.0 or HEQ040 1.0 (took meds for hepatitis) new column\n",
    "\n",
    "data_total['MEDS'] = np.where(((data_total.HEQ020 == 1.0) | ((data_total.HEQ040 == 1.0))), 1.0, 2.0)\n",
    "\n",
    "data_total['MEDS'].value_counts()"
   ]
  },
  {
   "cell_type": "code",
   "execution_count": null,
   "metadata": {},
   "outputs": [],
   "source": [
    "# Drop HEQ columns as we have combined them\n",
    "\n",
    "data_total = data_total.drop(['HEQ010', 'HEQ020', 'HEQ030', 'HEQ040'], axis = 1)"
   ]
  },
  {
   "cell_type": "code",
   "execution_count": null,
   "metadata": {},
   "outputs": [],
   "source": [
    "data_total"
   ]
  },
  {
   "cell_type": "code",
   "execution_count": null,
   "metadata": {},
   "outputs": [],
   "source": [
    "# Missing values\n",
    "\n",
    "percentage_missing = data_total.isnull().mean() * 100\n",
    "percentage_missing = percentage_missing[percentage_missing != 0].sort_values(ascending = False)\n",
    "\n",
    "number_missing = data_total.isnull().sum()\n",
    "number_missing = number_missing[number_missing != 0].sort_values(ascending = False)\n",
    "\n",
    "with pd.option_context('display.max_rows', None, 'display.max_columns', None):\n",
    "    print(percentage_missing)"
   ]
  },
  {
   "cell_type": "code",
   "execution_count": null,
   "metadata": {},
   "outputs": [],
   "source": [
    "with pd.option_context('display.max_rows', None, 'display.max_columns', None):\n",
    "    print(number_missing)"
   ]
  },
  {
   "cell_type": "code",
   "execution_count": null,
   "metadata": {},
   "outputs": [],
   "source": [
    "# EDA\n",
    "\n",
    "hasHephasLiverCondition = len(\n",
    "    data_total.loc[(data_total['HEQ'] == 1.0) & (data_total['MCQ160L'] == 1.0)]) / len(data_total.loc[(data_total['HEQ'] == 1.0)]\n",
    "    ) * 100\n",
    "hasHephasNoLiverCondition = len(\n",
    "    data_total.loc[(data_total['HEQ'] == 1.0) & (data_total['MCQ160L'] != 1.0)]) / len(data_total.loc[(data_total['HEQ'] == 1.0)]\n",
    "    ) * 100\n",
    "\n",
    "hasNoHephasLiverCondition = len(\n",
    "    data_total.loc[(data_total['HEQ'] == 2.0) & (data_total['MCQ160L'] == 1.0)]) / len(data_total.loc[(data_total['HEQ'] == 2.0)]\n",
    "    ) * 100\n",
    "hasNoHephasNoLiverCondition = len(\n",
    "    data_total.loc[(data_total['HEQ'] == 2.0) & (data_total['MCQ160L'] != 1.0)]) / len(data_total.loc[(data_total['HEQ'] == 2.0)]\n",
    "    ) * 100\n",
    "\n",
    "hepatitis_liver_data = {\n",
    "    'Has hepatitis': [hasHephasLiverCondition, hasHephasNoLiverCondition, hasHephasLiverCondition + hasHephasNoLiverCondition],\n",
    "    'Does not have hepatitis': [hasNoHephasLiverCondition, hasNoHephasNoLiverCondition, hasNoHephasLiverCondition + hasNoHephasNoLiverCondition]\n",
    "}\n",
    "\n",
    "hepatitis_liver_table = pd.DataFrame(data = hepatitis_liver_data)\n",
    "hepatitis_liver_table.index = ['Has liver condition', 'Does not have liver condition', 'Total']\n",
    "hepatitis_liver_table"
   ]
  },
  {
   "cell_type": "code",
   "execution_count": null,
   "metadata": {},
   "outputs": [],
   "source": [
    "# EDA\n",
    "\n",
    "plt.bar([1, 2], [hasHephasLiverCondition, hasNoHephasLiverCondition])\n",
    "plt.bar([1, 2], [hasHephasNoLiverCondition, hasNoHephasNoLiverCondition], bottom = [hasHephasLiverCondition, hasNoHephasLiverCondition])\n",
    "plt.xticks([1, 2], ['Has hepatitis', 'Does not have hepatitis'])\n",
    "plt.legend(['Has liver condition', 'Does not have liver condition'], bbox_to_anchor = (0.5, 1.25))\n",
    "plt.xlabel(\"Hepatitis Status\")\n",
    "plt.ylabel(\"Percentage of People with/without Liver Condition\")\n",
    "plt.title(\"Stacked Barplot of Hepatitis against Liver Condition\")\n",
    "plt.show()"
   ]
  },
  {
   "cell_type": "code",
   "execution_count": 28,
   "metadata": {},
   "outputs": [
    {
     "name": "stderr",
     "output_type": "stream",
     "text": [
      "<ipython-input-28-5fe771337a18>:8: DeprecationWarning: `np.bool` is a deprecated alias for the builtin `bool`. To silence this warning, use `bool` by itself. Doing this will not modify any behavior and is safe. If you specifically wanted the numpy scalar type, use `np.bool_` here.\n",
      "Deprecated in NumPy 1.20; for more details and guidance: https://numpy.org/devdocs/release/1.20.0-notes.html#deprecations\n",
      "  sns.heatmap(corr_matrix, mask=np.zeros_like(corr_matrix, dtype=np.bool), cmap=sns.diverging_palette(220, 10, as_cmap=True),\n"
     ]
    },
    {
     "data": {
      "text/plain": [
       "<AxesSubplot:>"
      ]
     },
     "execution_count": 28,
     "metadata": {},
     "output_type": "execute_result"
    },
    {
     "data": {
      "image/png": "[encoded data removed]",
      "text/plain": [
       "<Figure size 432x288 with 2 Axes>"
      ]
     },
     "metadata": {
      "needs_background": "light"
     },
     "output_type": "display_data"
    }
   ],
   "source": [
    "# EDA Tom- link between vaccines and infection\n",
    "\n",
    "vacc_df = data_total[['IMQ011','IMQ020','HEQ']].copy()\n",
    "\n",
    "vacc_df[\"VACC\"] = np.where(((vacc_df.IMQ011 < 3.0) | (vacc_df.IMQ020 < 3.0)), 1, 2)\n",
    "\n",
    "corr_matrix = vacc_df.corr(method='pearson')\n",
    "sns.heatmap(corr_matrix, mask=np.zeros_like(corr_matrix, dtype=np.bool), cmap=sns.diverging_palette(220, 10, as_cmap=True),\n",
    "            square=True)"
   ]
  }
 ],
 "metadata": {
  "kernelspec": {
   "display_name": "Python 3.8.8 ('base')",
   "language": "python",
   "name": "python3"
  },
  "language_info": {
   "codemirror_mode": {
    "name": "ipython",
    "version": 3
   },
   "file_extension": ".py",
   "mimetype": "text/x-python",
   "name": "python",
   "nbconvert_exporter": "python",
   "pygments_lexer": "ipython3",
   "version": "3.8.8"
  },
  "orig_nbformat": 4,
  "vscode": {
   "interpreter": {
    "hash": "64cdbf2ddcb9cd73e43d780a5c38adc9c5cb93dd1a925db9d35733ec03fb2329"
   }
  }
 },
 "nbformat": 4,
 "nbformat_minor": 2
}
